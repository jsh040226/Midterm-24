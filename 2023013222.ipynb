{
  "nbformat": 4,
  "nbformat_minor": 0,
  "metadata": {
    "colab": {
      "provenance": [],
      "authorship_tag": "ABX9TyNAu59Zeegbz5Tf2CTvc50c",
      "include_colab_link": true
    },
    "kernelspec": {
      "name": "python3",
      "display_name": "Python 3"
    },
    "language_info": {
      "name": "python"
    }
  },
  "cells": [
    {
      "cell_type": "markdown",
      "metadata": {
        "id": "view-in-github",
        "colab_type": "text"
      },
      "source": [
        "<a href=\"https://colab.research.google.com/github/jsh040226/Midterm-24/blob/main/2023013222.ipynb\" target=\"_parent\"><img src=\"https://colab.research.google.com/assets/colab-badge.svg\" alt=\"Open In Colab\"/></a>"
      ]
    },
    {
      "cell_type": "markdown",
      "source": [
        " # 🌀Midterm 2024: Jung seo hyun"
      ],
      "metadata": {
        "id": "diLivJy1aBt1"
      }
    },
    {
      "cell_type": "markdown",
      "source": [
        "##Index Question"
      ],
      "metadata": {
        "id": "Ws4P9NsuezHB"
      }
    },
    {
      "cell_type": "code",
      "source": [
        "# Dropdown\n",
        "\n",
        "cardinal_number = \"1\" #@param = [\"1\",\"2\",\"3\",\"4\"]\n",
        "\n",
        "# Add one line of code below\n",
        "cardinal_number = int(cardinal_number)\n",
        "\n",
        "# Ordinal expression as a list\n",
        "\n",
        "words = [\"\",\"First\", \"Second\", \"Third\",\"Fourth\"]\n",
        "\n",
        "print(\"The ordinal expression:\", words[cardinal_number])"
      ],
      "metadata": {
        "colab": {
          "base_uri": "https://localhost:8080/"
        },
        "cellView": "form",
        "id": "sByY1c_cc1Zy",
        "outputId": "9cf8c105-0e1e-4520-9799-f3fddcfe8b94"
      },
      "execution_count": 6,
      "outputs": [
        {
          "output_type": "stream",
          "name": "stdout",
          "text": [
            "The ordinal expression: First\n"
          ]
        }
      ]
    },
    {
      "cell_type": "markdown",
      "source": [
        "##Name Question"
      ],
      "metadata": {
        "id": "fdM94yLje7Hg"
      }
    },
    {
      "cell_type": "code",
      "source": [
        "#Name question\n",
        "x = \"My name is\" ; y= \"seohyun\"\n",
        "print(x, y,\".\")\n"
      ],
      "metadata": {
        "colab": {
          "base_uri": "https://localhost:8080/"
        },
        "id": "tFN8-tA5d3R6",
        "outputId": "34c3e504-d8dd-4f4d-f225-118db61b7acf"
      },
      "execution_count": 10,
      "outputs": [
        {
          "output_type": "stream",
          "name": "stdout",
          "text": [
            "My name is seohyun .\n"
          ]
        }
      ]
    },
    {
      "cell_type": "markdown",
      "source": [
        "## Variable Question"
      ],
      "metadata": {
        "id": "5biv3KuUfDb5"
      }
    },
    {
      "cell_type": "code",
      "source": [
        "#\n",
        "'Mary,1998,Ohio; and John, 1999, Boston.'\n",
        "x=input(\"name:\"); y=input(\"born in:\"); z=input(\"hometown:\")\n",
        "print(\"Hello, my name is\", x,\".\", \"I was born in\", y,\"and I'm from\", z,\".\", \"Nice to meet you.\")"
      ],
      "metadata": {
        "colab": {
          "base_uri": "https://localhost:8080/"
        },
        "id": "VGTHjAdDfLVy",
        "outputId": "4d45500f-1f0b-4e06-deb1-c76e7d249c0d"
      },
      "execution_count": 14,
      "outputs": [
        {
          "output_type": "stream",
          "name": "stdout",
          "text": [
            "name:Mary\n",
            "born in:1998\n",
            "hometown:Ohio\n",
            "Hello, my name is Mary . I was born in 1998 and I'm from Ohio . Nice to meet you.\n"
          ]
        }
      ]
    },
    {
      "cell_type": "markdown",
      "source": [
        "##Dictionary Question"
      ],
      "metadata": {
        "id": "NcHBIzlFhWAo"
      }
    },
    {
      "cell_type": "code",
      "source": [
        "grades = {\"Bob\":\"80\", \"Mary\":\"70\", \"John\":\"75\"}\n",
        "bob_grade = grades[\"Bob\"]\n",
        "print(bob_grade)"
      ],
      "metadata": {
        "colab": {
          "base_uri": "https://localhost:8080/"
        },
        "id": "BWaas5vghZyo",
        "outputId": "f04f7fb3-eaca-4a74-c3c0-b5e0658e9660"
      },
      "execution_count": 16,
      "outputs": [
        {
          "output_type": "stream",
          "name": "stdout",
          "text": [
            "80\n"
          ]
        }
      ]
    },
    {
      "cell_type": "markdown",
      "source": [
        "##GTTS Question"
      ],
      "metadata": {
        "id": "bZYciESBilr4"
      }
    },
    {
      "cell_type": "code",
      "source": [
        "%%capture\n",
        "!pip install gtts\n",
        "!pip install IPython"
      ],
      "metadata": {
        "id": "GvO8AZJfkNXg"
      },
      "execution_count": 20,
      "outputs": []
    },
    {
      "cell_type": "code",
      "source": [
        "#@markdown TTS with user input\n",
        "\n",
        "from gtts import gTTS\n",
        "from IPython.display import Audio, display\n",
        "import os\n",
        "\n",
        "def generate_audio(text, lang):\n",
        "    tts = gTTS(text=text, lang=lang)\n",
        "    filename = 'temp_audio.mp3'\n",
        "    tts.save(filename)\n",
        "    display(Audio(filename, autoplay=True))\n",
        "    os.remove(filename)\n",
        "\n",
        "# Example Usage\n",
        "mytext = input(\"Write text here: \")\n",
        "generate_audio(mytext, \"en\")\n",
        "\n"
      ],
      "metadata": {
        "colab": {
          "base_uri": "https://localhost:8080/",
          "height": 93
        },
        "id": "jF6Eq7bqirmf",
        "outputId": "71d99e0e-f3c3-4e13-f9b8-9c1ef2145bd4"
      },
      "execution_count": 21,
      "outputs": [
        {
          "name": "stdout",
          "output_type": "stream",
          "text": [
            "Write text here: I have succeeded in this task.\n"
          ]
        },
        {
          "output_type": "display_data",
          "data": {
            "text/plain": [
              "<IPython.lib.display.Audio object>"
            ],
            "text/html": [
              "\n",
              "                <audio  controls=\"controls\" autoplay=\"autoplay\">\n",
              "                    <source src=\"data:audio/mpeg;base64,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\" type=\"audio/mpeg\" />\n",
              "                    Your browser does not support the audio element.\n",
              "                </audio>\n",
              "              "
            ]
          },
          "metadata": {}
        }
      ]
    },
    {
      "cell_type": "markdown",
      "source": [
        "##Function Question"
      ],
      "metadata": {
        "id": "yJf2c2UPkhl_"
      }
    },
    {
      "cell_type": "code",
      "source": [
        "# Define a function for division\n",
        "def division(x, y):\n",
        "    return x / y\n",
        "\n",
        "# Test the function\n",
        "result = division(20, 4)\n",
        "print(\"The result of division is:\", result)"
      ],
      "metadata": {
        "colab": {
          "base_uri": "https://localhost:8080/"
        },
        "id": "YgahuW1aklpv",
        "outputId": "69c9dbb0-1146-4014-cf54-e2b4e5531634"
      },
      "execution_count": 23,
      "outputs": [
        {
          "output_type": "stream",
          "name": "stdout",
          "text": [
            "The result of division is: 5.0\n"
          ]
        }
      ]
    },
    {
      "cell_type": "markdown",
      "source": [
        "## Audio Question"
      ],
      "metadata": {
        "id": "ff_k7xDjlX--"
      }
    },
    {
      "cell_type": "code",
      "source": [
        "\n",
        "# Install gradio library using !pip install\n",
        "\n",
        "!pip install gradio"
      ],
      "metadata": {
        "colab": {
          "base_uri": "https://localhost:8080/"
        },
        "id": "8IHCo94XmVMu",
        "outputId": "0d880bda-83e8-4689-e2cc-d1092f518fc6"
      },
      "execution_count": 25,
      "outputs": [
        {
          "output_type": "stream",
          "name": "stdout",
          "text": [
            "Collecting gradio\n",
            "  Downloading gradio-4.28.3-py3-none-any.whl (12.2 MB)\n",
            "\u001b[2K     \u001b[90m━━━━━━━━━━━━━━━━━━━━━━━━━━━━━━━━━━━━━━━━\u001b[0m \u001b[32m12.2/12.2 MB\u001b[0m \u001b[31m33.7 MB/s\u001b[0m eta \u001b[36m0:00:00\u001b[0m\n",
            "\u001b[?25hCollecting aiofiles<24.0,>=22.0 (from gradio)\n",
            "  Downloading aiofiles-23.2.1-py3-none-any.whl (15 kB)\n",
            "Requirement already satisfied: altair<6.0,>=4.2.0 in /usr/local/lib/python3.10/dist-packages (from gradio) (4.2.2)\n",
            "Collecting fastapi (from gradio)\n",
            "  Downloading fastapi-0.110.3-py3-none-any.whl (91 kB)\n",
            "\u001b[2K     \u001b[90m━━━━━━━━━━━━━━━━━━━━━━━━━━━━━━━━━━━━━━━━\u001b[0m \u001b[32m91.8/91.8 kB\u001b[0m \u001b[31m12.7 MB/s\u001b[0m eta \u001b[36m0:00:00\u001b[0m\n",
            "\u001b[?25hCollecting ffmpy (from gradio)\n",
            "  Downloading ffmpy-0.3.2.tar.gz (5.5 kB)\n",
            "  Preparing metadata (setup.py) ... \u001b[?25l\u001b[?25hdone\n",
            "Collecting gradio-client==0.16.0 (from gradio)\n",
            "  Downloading gradio_client-0.16.0-py3-none-any.whl (314 kB)\n",
            "\u001b[2K     \u001b[90m━━━━━━━━━━━━━━━━━━━━━━━━━━━━━━━━━━━━━━━━\u001b[0m \u001b[32m314.4/314.4 kB\u001b[0m \u001b[31m34.9 MB/s\u001b[0m eta \u001b[36m0:00:00\u001b[0m\n",
            "\u001b[?25hCollecting httpx>=0.24.1 (from gradio)\n",
            "  Downloading httpx-0.27.0-py3-none-any.whl (75 kB)\n",
            "\u001b[2K     \u001b[90m━━━━━━━━━━━━━━━━━━━━━━━━━━━━━━━━━━━━━━━━\u001b[0m \u001b[32m75.6/75.6 kB\u001b[0m \u001b[31m10.4 MB/s\u001b[0m eta \u001b[36m0:00:00\u001b[0m\n",
            "\u001b[?25hRequirement already satisfied: huggingface-hub>=0.19.3 in /usr/local/lib/python3.10/dist-packages (from gradio) (0.20.3)\n",
            "Requirement already satisfied: importlib-resources<7.0,>=1.3 in /usr/local/lib/python3.10/dist-packages (from gradio) (6.4.0)\n",
            "Requirement already satisfied: jinja2<4.0 in /usr/local/lib/python3.10/dist-packages (from gradio) (3.1.3)\n",
            "Requirement already satisfied: markupsafe~=2.0 in /usr/local/lib/python3.10/dist-packages (from gradio) (2.1.5)\n",
            "Requirement already satisfied: matplotlib~=3.0 in /usr/local/lib/python3.10/dist-packages (from gradio) (3.7.1)\n",
            "Requirement already satisfied: numpy~=1.0 in /usr/local/lib/python3.10/dist-packages (from gradio) (1.25.2)\n",
            "Collecting orjson~=3.0 (from gradio)\n",
            "  Downloading orjson-3.10.1-cp310-cp310-manylinux_2_17_x86_64.manylinux2014_x86_64.whl (141 kB)\n",
            "\u001b[2K     \u001b[90m━━━━━━━━━━━━━━━━━━━━━━━━━━━━━━━━━━━━━━━━\u001b[0m \u001b[32m141.1/141.1 kB\u001b[0m \u001b[31m16.9 MB/s\u001b[0m eta \u001b[36m0:00:00\u001b[0m\n",
            "\u001b[?25hRequirement already satisfied: packaging in /usr/local/lib/python3.10/dist-packages (from gradio) (24.0)\n",
            "Requirement already satisfied: pandas<3.0,>=1.0 in /usr/local/lib/python3.10/dist-packages (from gradio) (2.0.3)\n",
            "Requirement already satisfied: pillow<11.0,>=8.0 in /usr/local/lib/python3.10/dist-packages (from gradio) (9.4.0)\n",
            "Requirement already satisfied: pydantic>=2.0 in /usr/local/lib/python3.10/dist-packages (from gradio) (2.7.0)\n",
            "Collecting pydub (from gradio)\n",
            "  Downloading pydub-0.25.1-py2.py3-none-any.whl (32 kB)\n",
            "Collecting python-multipart>=0.0.9 (from gradio)\n",
            "  Downloading python_multipart-0.0.9-py3-none-any.whl (22 kB)\n",
            "Requirement already satisfied: pyyaml<7.0,>=5.0 in /usr/local/lib/python3.10/dist-packages (from gradio) (6.0.1)\n",
            "Collecting ruff>=0.2.2 (from gradio)\n",
            "  Downloading ruff-0.4.2-py3-none-manylinux_2_17_x86_64.manylinux2014_x86_64.whl (8.8 MB)\n",
            "\u001b[2K     \u001b[90m━━━━━━━━━━━━━━━━━━━━━━━━━━━━━━━━━━━━━━━━\u001b[0m \u001b[32m8.8/8.8 MB\u001b[0m \u001b[31m50.7 MB/s\u001b[0m eta \u001b[36m0:00:00\u001b[0m\n",
            "\u001b[?25hCollecting semantic-version~=2.0 (from gradio)\n",
            "  Downloading semantic_version-2.10.0-py2.py3-none-any.whl (15 kB)\n",
            "Collecting tomlkit==0.12.0 (from gradio)\n",
            "  Downloading tomlkit-0.12.0-py3-none-any.whl (37 kB)\n",
            "Collecting typer<1.0,>=0.12 (from gradio)\n",
            "  Downloading typer-0.12.3-py3-none-any.whl (47 kB)\n",
            "\u001b[2K     \u001b[90m━━━━━━━━━━━━━━━━━━━━━━━━━━━━━━━━━━━━━━━━\u001b[0m \u001b[32m47.2/47.2 kB\u001b[0m \u001b[31m6.2 MB/s\u001b[0m eta \u001b[36m0:00:00\u001b[0m\n",
            "\u001b[?25hRequirement already satisfied: typing-extensions~=4.0 in /usr/local/lib/python3.10/dist-packages (from gradio) (4.11.0)\n",
            "Requirement already satisfied: urllib3~=2.0 in /usr/local/lib/python3.10/dist-packages (from gradio) (2.0.7)\n",
            "Collecting uvicorn>=0.14.0 (from gradio)\n",
            "  Downloading uvicorn-0.29.0-py3-none-any.whl (60 kB)\n",
            "\u001b[2K     \u001b[90m━━━━━━━━━━━━━━━━━━━━━━━━━━━━━━━━━━━━━━━━\u001b[0m \u001b[32m60.8/60.8 kB\u001b[0m \u001b[31m7.6 MB/s\u001b[0m eta \u001b[36m0:00:00\u001b[0m\n",
            "\u001b[?25hRequirement already satisfied: fsspec in /usr/local/lib/python3.10/dist-packages (from gradio-client==0.16.0->gradio) (2023.6.0)\n",
            "Collecting websockets<12.0,>=10.0 (from gradio-client==0.16.0->gradio)\n",
            "  Downloading websockets-11.0.3-cp310-cp310-manylinux_2_5_x86_64.manylinux1_x86_64.manylinux_2_17_x86_64.manylinux2014_x86_64.whl (129 kB)\n",
            "\u001b[2K     \u001b[90m━━━━━━━━━━━━━━━━━━━━━━━━━━━━━━━━━━━━━━━━\u001b[0m \u001b[32m129.9/129.9 kB\u001b[0m \u001b[31m13.7 MB/s\u001b[0m eta \u001b[36m0:00:00\u001b[0m\n",
            "\u001b[?25hRequirement already satisfied: entrypoints in /usr/local/lib/python3.10/dist-packages (from altair<6.0,>=4.2.0->gradio) (0.4)\n",
            "Requirement already satisfied: jsonschema>=3.0 in /usr/local/lib/python3.10/dist-packages (from altair<6.0,>=4.2.0->gradio) (4.19.2)\n",
            "Requirement already satisfied: toolz in /usr/local/lib/python3.10/dist-packages (from altair<6.0,>=4.2.0->gradio) (0.12.1)\n",
            "Requirement already satisfied: anyio in /usr/local/lib/python3.10/dist-packages (from httpx>=0.24.1->gradio) (3.7.1)\n",
            "Requirement already satisfied: certifi in /usr/local/lib/python3.10/dist-packages (from httpx>=0.24.1->gradio) (2024.2.2)\n",
            "Collecting httpcore==1.* (from httpx>=0.24.1->gradio)\n",
            "  Downloading httpcore-1.0.5-py3-none-any.whl (77 kB)\n",
            "\u001b[2K     \u001b[90m━━━━━━━━━━━━━━━━━━━━━━━━━━━━━━━━━━━━━━━━\u001b[0m \u001b[32m77.9/77.9 kB\u001b[0m \u001b[31m11.8 MB/s\u001b[0m eta \u001b[36m0:00:00\u001b[0m\n",
            "\u001b[?25hRequirement already satisfied: idna in /usr/local/lib/python3.10/dist-packages (from httpx>=0.24.1->gradio) (3.7)\n",
            "Requirement already satisfied: sniffio in /usr/local/lib/python3.10/dist-packages (from httpx>=0.24.1->gradio) (1.3.1)\n",
            "Collecting h11<0.15,>=0.13 (from httpcore==1.*->httpx>=0.24.1->gradio)\n",
            "  Downloading h11-0.14.0-py3-none-any.whl (58 kB)\n",
            "\u001b[2K     \u001b[90m━━━━━━━━━━━━━━━━━━━━━━━━━━━━━━━━━━━━━━━━\u001b[0m \u001b[32m58.3/58.3 kB\u001b[0m \u001b[31m8.0 MB/s\u001b[0m eta \u001b[36m0:00:00\u001b[0m\n",
            "\u001b[?25hRequirement already satisfied: filelock in /usr/local/lib/python3.10/dist-packages (from huggingface-hub>=0.19.3->gradio) (3.13.4)\n",
            "Requirement already satisfied: requests in /usr/local/lib/python3.10/dist-packages (from huggingface-hub>=0.19.3->gradio) (2.31.0)\n",
            "Requirement already satisfied: tqdm>=4.42.1 in /usr/local/lib/python3.10/dist-packages (from huggingface-hub>=0.19.3->gradio) (4.66.2)\n",
            "Requirement already satisfied: contourpy>=1.0.1 in /usr/local/lib/python3.10/dist-packages (from matplotlib~=3.0->gradio) (1.2.1)\n",
            "Requirement already satisfied: cycler>=0.10 in /usr/local/lib/python3.10/dist-packages (from matplotlib~=3.0->gradio) (0.12.1)\n",
            "Requirement already satisfied: fonttools>=4.22.0 in /usr/local/lib/python3.10/dist-packages (from matplotlib~=3.0->gradio) (4.51.0)\n",
            "Requirement already satisfied: kiwisolver>=1.0.1 in /usr/local/lib/python3.10/dist-packages (from matplotlib~=3.0->gradio) (1.4.5)\n",
            "Requirement already satisfied: pyparsing>=2.3.1 in /usr/local/lib/python3.10/dist-packages (from matplotlib~=3.0->gradio) (3.1.2)\n",
            "Requirement already satisfied: python-dateutil>=2.7 in /usr/local/lib/python3.10/dist-packages (from matplotlib~=3.0->gradio) (2.8.2)\n",
            "Requirement already satisfied: pytz>=2020.1 in /usr/local/lib/python3.10/dist-packages (from pandas<3.0,>=1.0->gradio) (2023.4)\n",
            "Requirement already satisfied: tzdata>=2022.1 in /usr/local/lib/python3.10/dist-packages (from pandas<3.0,>=1.0->gradio) (2024.1)\n",
            "Requirement already satisfied: annotated-types>=0.4.0 in /usr/local/lib/python3.10/dist-packages (from pydantic>=2.0->gradio) (0.6.0)\n",
            "Requirement already satisfied: pydantic-core==2.18.1 in /usr/local/lib/python3.10/dist-packages (from pydantic>=2.0->gradio) (2.18.1)\n",
            "Requirement already satisfied: click>=8.0.0 in /usr/local/lib/python3.10/dist-packages (from typer<1.0,>=0.12->gradio) (8.1.7)\n",
            "Collecting shellingham>=1.3.0 (from typer<1.0,>=0.12->gradio)\n",
            "  Downloading shellingham-1.5.4-py2.py3-none-any.whl (9.8 kB)\n",
            "Requirement already satisfied: rich>=10.11.0 in /usr/local/lib/python3.10/dist-packages (from typer<1.0,>=0.12->gradio) (13.7.1)\n",
            "Collecting starlette<0.38.0,>=0.37.2 (from fastapi->gradio)\n",
            "  Downloading starlette-0.37.2-py3-none-any.whl (71 kB)\n",
            "\u001b[2K     \u001b[90m━━━━━━━━━━━━━━━━━━━━━━━━━━━━━━━━━━━━━━━━\u001b[0m \u001b[32m71.9/71.9 kB\u001b[0m \u001b[31m10.8 MB/s\u001b[0m eta \u001b[36m0:00:00\u001b[0m\n",
            "\u001b[?25hRequirement already satisfied: attrs>=22.2.0 in /usr/local/lib/python3.10/dist-packages (from jsonschema>=3.0->altair<6.0,>=4.2.0->gradio) (23.2.0)\n",
            "Requirement already satisfied: jsonschema-specifications>=2023.03.6 in /usr/local/lib/python3.10/dist-packages (from jsonschema>=3.0->altair<6.0,>=4.2.0->gradio) (2023.12.1)\n",
            "Requirement already satisfied: referencing>=0.28.4 in /usr/local/lib/python3.10/dist-packages (from jsonschema>=3.0->altair<6.0,>=4.2.0->gradio) (0.34.0)\n",
            "Requirement already satisfied: rpds-py>=0.7.1 in /usr/local/lib/python3.10/dist-packages (from jsonschema>=3.0->altair<6.0,>=4.2.0->gradio) (0.18.0)\n",
            "Requirement already satisfied: six>=1.5 in /usr/local/lib/python3.10/dist-packages (from python-dateutil>=2.7->matplotlib~=3.0->gradio) (1.16.0)\n",
            "Requirement already satisfied: markdown-it-py>=2.2.0 in /usr/local/lib/python3.10/dist-packages (from rich>=10.11.0->typer<1.0,>=0.12->gradio) (3.0.0)\n",
            "Requirement already satisfied: pygments<3.0.0,>=2.13.0 in /usr/local/lib/python3.10/dist-packages (from rich>=10.11.0->typer<1.0,>=0.12->gradio) (2.16.1)\n",
            "Requirement already satisfied: exceptiongroup in /usr/local/lib/python3.10/dist-packages (from anyio->httpx>=0.24.1->gradio) (1.2.1)\n",
            "Requirement already satisfied: charset-normalizer<4,>=2 in /usr/local/lib/python3.10/dist-packages (from requests->huggingface-hub>=0.19.3->gradio) (3.3.2)\n",
            "Requirement already satisfied: mdurl~=0.1 in /usr/local/lib/python3.10/dist-packages (from markdown-it-py>=2.2.0->rich>=10.11.0->typer<1.0,>=0.12->gradio) (0.1.2)\n",
            "Building wheels for collected packages: ffmpy\n",
            "  Building wheel for ffmpy (setup.py) ... \u001b[?25l\u001b[?25hdone\n",
            "  Created wheel for ffmpy: filename=ffmpy-0.3.2-py3-none-any.whl size=5584 sha256=375c0bbb1baa589fc1115c4b7960d607245edd28a4b6d2b7b2b2854e06015e57\n",
            "  Stored in directory: /root/.cache/pip/wheels/bd/65/9a/671fc6dcde07d4418df0c592f8df512b26d7a0029c2a23dd81\n",
            "Successfully built ffmpy\n",
            "Installing collected packages: pydub, ffmpy, websockets, tomlkit, shellingham, semantic-version, ruff, python-multipart, orjson, h11, aiofiles, uvicorn, starlette, httpcore, typer, httpx, fastapi, gradio-client, gradio\n",
            "  Attempting uninstall: typer\n",
            "    Found existing installation: typer 0.9.4\n",
            "    Uninstalling typer-0.9.4:\n",
            "      Successfully uninstalled typer-0.9.4\n",
            "\u001b[31mERROR: pip's dependency resolver does not currently take into account all the packages that are installed. This behaviour is the source of the following dependency conflicts.\n",
            "spacy 3.7.4 requires typer<0.10.0,>=0.3.0, but you have typer 0.12.3 which is incompatible.\n",
            "weasel 0.3.4 requires typer<0.10.0,>=0.3.0, but you have typer 0.12.3 which is incompatible.\u001b[0m\u001b[31m\n",
            "\u001b[0mSuccessfully installed aiofiles-23.2.1 fastapi-0.110.3 ffmpy-0.3.2 gradio-4.28.3 gradio-client-0.16.0 h11-0.14.0 httpcore-1.0.5 httpx-0.27.0 orjson-3.10.1 pydub-0.25.1 python-multipart-0.0.9 ruff-0.4.2 semantic-version-2.10.0 shellingham-1.5.4 starlette-0.37.2 tomlkit-0.12.0 typer-0.12.3 uvicorn-0.29.0 websockets-11.0.3\n"
          ]
        }
      ]
    },
    {
      "cell_type": "code",
      "source": [
        "import gradio as gr\n",
        "from gtts import gTTS\n",
        "import os\n",
        "\n",
        "def text_to_speech(text, language):\n",
        "    lang_code = 'en' if language == \"English\" else 'ko'\n",
        "    tts = gTTS(text=text, lang=lang_code, slow=False)\n",
        "    tts.save(\"output.mp3\")\n",
        "    return \"output.mp3\"\n",
        "\n",
        "interface = gr.Interface(\n",
        "    fn=text_to_speech,\n",
        "    inputs=[\n",
        "        gr.Textbox(lines=3, label=\"Enter text\"),\n",
        "        gr.Radio(choices=[\"English\", \"Korean\"], label=\"Select language\")\n",
        "    ],\n",
        "    outputs=gr.Audio(type=\"filepath\", label=\"Audio\"),\n",
        "    title=\"Text-to-Speech\",\n",
        "    description=\"Type in some text, select a language, and generate audio.\",\n",
        ")\n",
        "\n",
        "interface.launch()"
      ],
      "metadata": {
        "colab": {
          "base_uri": "https://localhost:8080/",
          "height": 631
        },
        "id": "9wc_sIvpmIF1",
        "outputId": "142c8d1c-7880-4cb7-f9b5-54d3e508af6d"
      },
      "execution_count": 26,
      "outputs": [
        {
          "output_type": "stream",
          "name": "stdout",
          "text": [
            "Setting queue=True in a Colab notebook requires sharing enabled. Setting `share=True` (you can turn this off by setting `share=False` in `launch()` explicitly).\n",
            "\n",
            "Colab notebook detected. To show errors in colab notebook, set debug=True in launch()\n",
            "Running on public URL: https://a0d5a1f811c4ccb571.gradio.live\n",
            "\n",
            "This share link expires in 72 hours. For free permanent hosting and GPU upgrades, run `gradio deploy` from Terminal to deploy to Spaces (https://huggingface.co/spaces)\n"
          ]
        },
        {
          "output_type": "display_data",
          "data": {
            "text/plain": [
              "<IPython.core.display.HTML object>"
            ],
            "text/html": [
              "<div><iframe src=\"https://a0d5a1f811c4ccb571.gradio.live\" width=\"100%\" height=\"500\" allow=\"autoplay; camera; microphone; clipboard-read; clipboard-write;\" frameborder=\"0\" allowfullscreen></iframe></div>"
            ]
          },
          "metadata": {}
        },
        {
          "output_type": "execute_result",
          "data": {
            "text/plain": []
          },
          "metadata": {},
          "execution_count": 26
        }
      ]
    }
  ]
}